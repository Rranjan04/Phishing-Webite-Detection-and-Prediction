{
 "cells": [
  {
   "cell_type": "code",
   "execution_count": 1,
   "metadata": {},
   "outputs": [],
   "source": [
    "import pandas as pd"
   ]
  },
  {
   "cell_type": "code",
   "execution_count": 2,
   "metadata": {},
   "outputs": [],
   "source": [
    "# Loading csv dataset\n",
    "legitimate_urls = pd.read_csv(\"D:/downloads1/moodle6/Cybersecurity/Phishing-Website-Detection/extracted_csv_files/legitimate-urls.csv\")\n",
    "phishing_urls = pd.read_csv(\"D:/downloads1/moodle6/Cybersecurity/Phishing-Website-Detection/extracted_csv_files/phishing-urls.csv\")"
   ]
  },
  {
   "cell_type": "code",
   "execution_count": 3,
   "metadata": {},
   "outputs": [
    {
     "data": {
      "text/html": [
       "<div>\n",
       "<style scoped>\n",
       "    .dataframe tbody tr th:only-of-type {\n",
       "        vertical-align: middle;\n",
       "    }\n",
       "\n",
       "    .dataframe tbody tr th {\n",
       "        vertical-align: top;\n",
       "    }\n",
       "\n",
       "    .dataframe thead th {\n",
       "        text-align: right;\n",
       "    }\n",
       "</style>\n",
       "<table border=\"1\" class=\"dataframe\">\n",
       "  <thead>\n",
       "    <tr style=\"text-align: right;\">\n",
       "      <th></th>\n",
       "      <th>Domain</th>\n",
       "      <th>Having_@_symbol</th>\n",
       "      <th>Having_IP</th>\n",
       "      <th>Path</th>\n",
       "      <th>Prefix_suffix_separation</th>\n",
       "      <th>Protocol</th>\n",
       "      <th>Redirection_//_symbol</th>\n",
       "      <th>Sub_domains</th>\n",
       "      <th>URL_Length</th>\n",
       "      <th>age_domain</th>\n",
       "      <th>dns_record</th>\n",
       "      <th>domain_registration_length</th>\n",
       "      <th>http_tokens</th>\n",
       "      <th>label</th>\n",
       "      <th>statistical_report</th>\n",
       "      <th>tiny_url</th>\n",
       "      <th>web_traffic</th>\n",
       "    </tr>\n",
       "  </thead>\n",
       "  <tbody>\n",
       "    <tr>\n",
       "      <th>0</th>\n",
       "      <td>asesoresvelfit.com</td>\n",
       "      <td>0</td>\n",
       "      <td>0</td>\n",
       "      <td>/media/datacredito.co/</td>\n",
       "      <td>0</td>\n",
       "      <td>http</td>\n",
       "      <td>0</td>\n",
       "      <td>0</td>\n",
       "      <td>0</td>\n",
       "      <td>0</td>\n",
       "      <td>0</td>\n",
       "      <td>1</td>\n",
       "      <td>0</td>\n",
       "      <td>1</td>\n",
       "      <td>0</td>\n",
       "      <td>1</td>\n",
       "      <td>1</td>\n",
       "    </tr>\n",
       "    <tr>\n",
       "      <th>1</th>\n",
       "      <td>caixa.com.br.fgtsagendesaqueconta.com</td>\n",
       "      <td>0</td>\n",
       "      <td>0</td>\n",
       "      <td>/consulta8523211/principal.php</td>\n",
       "      <td>0</td>\n",
       "      <td>http</td>\n",
       "      <td>0</td>\n",
       "      <td>1</td>\n",
       "      <td>1</td>\n",
       "      <td>0</td>\n",
       "      <td>0</td>\n",
       "      <td>1</td>\n",
       "      <td>0</td>\n",
       "      <td>1</td>\n",
       "      <td>1</td>\n",
       "      <td>0</td>\n",
       "      <td>1</td>\n",
       "    </tr>\n",
       "    <tr>\n",
       "      <th>2</th>\n",
       "      <td>hissoulreason.com</td>\n",
       "      <td>0</td>\n",
       "      <td>0</td>\n",
       "      <td>/js/homepage/home/</td>\n",
       "      <td>0</td>\n",
       "      <td>http</td>\n",
       "      <td>0</td>\n",
       "      <td>0</td>\n",
       "      <td>0</td>\n",
       "      <td>0</td>\n",
       "      <td>0</td>\n",
       "      <td>1</td>\n",
       "      <td>0</td>\n",
       "      <td>1</td>\n",
       "      <td>0</td>\n",
       "      <td>0</td>\n",
       "      <td>1</td>\n",
       "    </tr>\n",
       "    <tr>\n",
       "      <th>3</th>\n",
       "      <td>unauthorizd.newebpage.com</td>\n",
       "      <td>0</td>\n",
       "      <td>0</td>\n",
       "      <td>/webapps/66fbf/</td>\n",
       "      <td>0</td>\n",
       "      <td>http</td>\n",
       "      <td>0</td>\n",
       "      <td>0</td>\n",
       "      <td>0</td>\n",
       "      <td>0</td>\n",
       "      <td>0</td>\n",
       "      <td>1</td>\n",
       "      <td>0</td>\n",
       "      <td>1</td>\n",
       "      <td>1</td>\n",
       "      <td>0</td>\n",
       "      <td>1</td>\n",
       "    </tr>\n",
       "    <tr>\n",
       "      <th>4</th>\n",
       "      <td>133.130.103.10</td>\n",
       "      <td>0</td>\n",
       "      <td>1</td>\n",
       "      <td>/23/</td>\n",
       "      <td>0</td>\n",
       "      <td>http</td>\n",
       "      <td>0</td>\n",
       "      <td>2</td>\n",
       "      <td>0</td>\n",
       "      <td>1</td>\n",
       "      <td>0</td>\n",
       "      <td>1</td>\n",
       "      <td>0</td>\n",
       "      <td>1</td>\n",
       "      <td>0</td>\n",
       "      <td>0</td>\n",
       "      <td>1</td>\n",
       "    </tr>\n",
       "    <tr>\n",
       "      <th>5</th>\n",
       "      <td>dj00.co.vu</td>\n",
       "      <td>1</td>\n",
       "      <td>0</td>\n",
       "      <td>/css/</td>\n",
       "      <td>0</td>\n",
       "      <td>http</td>\n",
       "      <td>0</td>\n",
       "      <td>0</td>\n",
       "      <td>2</td>\n",
       "      <td>1</td>\n",
       "      <td>1</td>\n",
       "      <td>1</td>\n",
       "      <td>0</td>\n",
       "      <td>1</td>\n",
       "      <td>1</td>\n",
       "      <td>0</td>\n",
       "      <td>0</td>\n",
       "    </tr>\n",
       "    <tr>\n",
       "      <th>6</th>\n",
       "      <td>133.130.103.10</td>\n",
       "      <td>0</td>\n",
       "      <td>1</td>\n",
       "      <td>/21/logar/</td>\n",
       "      <td>0</td>\n",
       "      <td>http</td>\n",
       "      <td>0</td>\n",
       "      <td>2</td>\n",
       "      <td>0</td>\n",
       "      <td>1</td>\n",
       "      <td>0</td>\n",
       "      <td>1</td>\n",
       "      <td>0</td>\n",
       "      <td>1</td>\n",
       "      <td>0</td>\n",
       "      <td>0</td>\n",
       "      <td>1</td>\n",
       "    </tr>\n",
       "    <tr>\n",
       "      <th>7</th>\n",
       "      <td>httpssicredi.esy.es</td>\n",
       "      <td>0</td>\n",
       "      <td>0</td>\n",
       "      <td>/servico/sicredi/validarclientes/mobi/index.php</td>\n",
       "      <td>0</td>\n",
       "      <td>http</td>\n",
       "      <td>0</td>\n",
       "      <td>2</td>\n",
       "      <td>2</td>\n",
       "      <td>1</td>\n",
       "      <td>1</td>\n",
       "      <td>1</td>\n",
       "      <td>1</td>\n",
       "      <td>1</td>\n",
       "      <td>1</td>\n",
       "      <td>0</td>\n",
       "      <td>1</td>\n",
       "    </tr>\n",
       "    <tr>\n",
       "      <th>8</th>\n",
       "      <td>gamesaty.ga</td>\n",
       "      <td>0</td>\n",
       "      <td>0</td>\n",
       "      <td>/wp-content///yh/en/</td>\n",
       "      <td>0</td>\n",
       "      <td>http</td>\n",
       "      <td>1</td>\n",
       "      <td>0</td>\n",
       "      <td>2</td>\n",
       "      <td>1</td>\n",
       "      <td>0</td>\n",
       "      <td>1</td>\n",
       "      <td>0</td>\n",
       "      <td>1</td>\n",
       "      <td>0</td>\n",
       "      <td>0</td>\n",
       "      <td>1</td>\n",
       "    </tr>\n",
       "    <tr>\n",
       "      <th>9</th>\n",
       "      <td>luxuryupgradepro.com</td>\n",
       "      <td>0</td>\n",
       "      <td>0</td>\n",
       "      <td>/ymailNew/ymailNew/</td>\n",
       "      <td>0</td>\n",
       "      <td>http</td>\n",
       "      <td>0</td>\n",
       "      <td>0</td>\n",
       "      <td>0</td>\n",
       "      <td>0</td>\n",
       "      <td>0</td>\n",
       "      <td>1</td>\n",
       "      <td>0</td>\n",
       "      <td>1</td>\n",
       "      <td>0</td>\n",
       "      <td>0</td>\n",
       "      <td>1</td>\n",
       "    </tr>\n",
       "  </tbody>\n",
       "</table>\n",
       "</div>"
      ],
      "text/plain": [
       "                                  Domain  Having_@_symbol  Having_IP  \\\n",
       "0                     asesoresvelfit.com                0          0   \n",
       "1  caixa.com.br.fgtsagendesaqueconta.com                0          0   \n",
       "2                      hissoulreason.com                0          0   \n",
       "3              unauthorizd.newebpage.com                0          0   \n",
       "4                         133.130.103.10                0          1   \n",
       "5                             dj00.co.vu                1          0   \n",
       "6                         133.130.103.10                0          1   \n",
       "7                    httpssicredi.esy.es                0          0   \n",
       "8                            gamesaty.ga                0          0   \n",
       "9                   luxuryupgradepro.com                0          0   \n",
       "\n",
       "                                              Path  Prefix_suffix_separation  \\\n",
       "0                           /media/datacredito.co/                         0   \n",
       "1                   /consulta8523211/principal.php                         0   \n",
       "2                               /js/homepage/home/                         0   \n",
       "3                                  /webapps/66fbf/                         0   \n",
       "4                                             /23/                         0   \n",
       "5                                            /css/                         0   \n",
       "6                                       /21/logar/                         0   \n",
       "7  /servico/sicredi/validarclientes/mobi/index.php                         0   \n",
       "8                             /wp-content///yh/en/                         0   \n",
       "9                              /ymailNew/ymailNew/                         0   \n",
       "\n",
       "  Protocol  Redirection_//_symbol  Sub_domains  URL_Length  age_domain  \\\n",
       "0     http                      0            0           0           0   \n",
       "1     http                      0            1           1           0   \n",
       "2     http                      0            0           0           0   \n",
       "3     http                      0            0           0           0   \n",
       "4     http                      0            2           0           1   \n",
       "5     http                      0            0           2           1   \n",
       "6     http                      0            2           0           1   \n",
       "7     http                      0            2           2           1   \n",
       "8     http                      1            0           2           1   \n",
       "9     http                      0            0           0           0   \n",
       "\n",
       "   dns_record  domain_registration_length  http_tokens  label  \\\n",
       "0           0                           1            0      1   \n",
       "1           0                           1            0      1   \n",
       "2           0                           1            0      1   \n",
       "3           0                           1            0      1   \n",
       "4           0                           1            0      1   \n",
       "5           1                           1            0      1   \n",
       "6           0                           1            0      1   \n",
       "7           1                           1            1      1   \n",
       "8           0                           1            0      1   \n",
       "9           0                           1            0      1   \n",
       "\n",
       "   statistical_report  tiny_url  web_traffic  \n",
       "0                   0         1            1  \n",
       "1                   1         0            1  \n",
       "2                   0         0            1  \n",
       "3                   1         0            1  \n",
       "4                   0         0            1  \n",
       "5                   1         0            0  \n",
       "6                   0         0            1  \n",
       "7                   1         0            1  \n",
       "8                   0         0            1  \n",
       "9                   0         0            1  "
      ]
     },
     "execution_count": 3,
     "metadata": {},
     "output_type": "execute_result"
    }
   ],
   "source": [
    "# Viewing both datasets\n",
    "legitimate_urls.head(10)\n",
    "phishing_urls.head(10)"
   ]
  },
  {
   "cell_type": "markdown",
   "metadata": {},
   "source": [
    "## Data PreProcessing\n",
    "#### Data is in two data frames so we merge them to make one dataframe\n",
    "Note: two dataframes has same column names"
   ]
  },
  {
   "cell_type": "code",
   "execution_count": 4,
   "metadata": {},
   "outputs": [],
   "source": [
    "urls = legitimate_urls.append(phishing_urls)"
   ]
  },
  {
   "cell_type": "code",
   "execution_count": 5,
   "metadata": {},
   "outputs": [
    {
     "data": {
      "text/html": [
       "<div>\n",
       "<style scoped>\n",
       "    .dataframe tbody tr th:only-of-type {\n",
       "        vertical-align: middle;\n",
       "    }\n",
       "\n",
       "    .dataframe tbody tr th {\n",
       "        vertical-align: top;\n",
       "    }\n",
       "\n",
       "    .dataframe thead th {\n",
       "        text-align: right;\n",
       "    }\n",
       "</style>\n",
       "<table border=\"1\" class=\"dataframe\">\n",
       "  <thead>\n",
       "    <tr style=\"text-align: right;\">\n",
       "      <th></th>\n",
       "      <th>Domain</th>\n",
       "      <th>Having_@_symbol</th>\n",
       "      <th>Having_IP</th>\n",
       "      <th>Path</th>\n",
       "      <th>Prefix_suffix_separation</th>\n",
       "      <th>Protocol</th>\n",
       "      <th>Redirection_//_symbol</th>\n",
       "      <th>Sub_domains</th>\n",
       "      <th>URL_Length</th>\n",
       "      <th>age_domain</th>\n",
       "      <th>dns_record</th>\n",
       "      <th>domain_registration_length</th>\n",
       "      <th>http_tokens</th>\n",
       "      <th>label</th>\n",
       "      <th>statistical_report</th>\n",
       "      <th>tiny_url</th>\n",
       "      <th>web_traffic</th>\n",
       "    </tr>\n",
       "  </thead>\n",
       "  <tbody>\n",
       "    <tr>\n",
       "      <th>0</th>\n",
       "      <td>www.liquidgeneration.com</td>\n",
       "      <td>0</td>\n",
       "      <td>0</td>\n",
       "      <td>/</td>\n",
       "      <td>0</td>\n",
       "      <td>http</td>\n",
       "      <td>0</td>\n",
       "      <td>0</td>\n",
       "      <td>0</td>\n",
       "      <td>0</td>\n",
       "      <td>0</td>\n",
       "      <td>1</td>\n",
       "      <td>0</td>\n",
       "      <td>0</td>\n",
       "      <td>0</td>\n",
       "      <td>0</td>\n",
       "      <td>2</td>\n",
       "    </tr>\n",
       "    <tr>\n",
       "      <th>1</th>\n",
       "      <td>www.onlineanime.org</td>\n",
       "      <td>0</td>\n",
       "      <td>0</td>\n",
       "      <td>/</td>\n",
       "      <td>0</td>\n",
       "      <td>http</td>\n",
       "      <td>0</td>\n",
       "      <td>0</td>\n",
       "      <td>0</td>\n",
       "      <td>0</td>\n",
       "      <td>0</td>\n",
       "      <td>1</td>\n",
       "      <td>0</td>\n",
       "      <td>0</td>\n",
       "      <td>1</td>\n",
       "      <td>0</td>\n",
       "      <td>1</td>\n",
       "    </tr>\n",
       "    <tr>\n",
       "      <th>2</th>\n",
       "      <td>www.ceres.dti.ne.jp</td>\n",
       "      <td>0</td>\n",
       "      <td>0</td>\n",
       "      <td>/~nekoi/senno/senfirst.html</td>\n",
       "      <td>0</td>\n",
       "      <td>http</td>\n",
       "      <td>0</td>\n",
       "      <td>1</td>\n",
       "      <td>0</td>\n",
       "      <td>1</td>\n",
       "      <td>0</td>\n",
       "      <td>1</td>\n",
       "      <td>0</td>\n",
       "      <td>0</td>\n",
       "      <td>0</td>\n",
       "      <td>0</td>\n",
       "      <td>0</td>\n",
       "    </tr>\n",
       "    <tr>\n",
       "      <th>3</th>\n",
       "      <td>www.galeon.com</td>\n",
       "      <td>0</td>\n",
       "      <td>0</td>\n",
       "      <td>/kmh/</td>\n",
       "      <td>0</td>\n",
       "      <td>http</td>\n",
       "      <td>0</td>\n",
       "      <td>0</td>\n",
       "      <td>0</td>\n",
       "      <td>0</td>\n",
       "      <td>0</td>\n",
       "      <td>0</td>\n",
       "      <td>0</td>\n",
       "      <td>0</td>\n",
       "      <td>0</td>\n",
       "      <td>0</td>\n",
       "      <td>0</td>\n",
       "    </tr>\n",
       "    <tr>\n",
       "      <th>4</th>\n",
       "      <td>www.fanworkrecs.com</td>\n",
       "      <td>0</td>\n",
       "      <td>0</td>\n",
       "      <td>/</td>\n",
       "      <td>0</td>\n",
       "      <td>http</td>\n",
       "      <td>0</td>\n",
       "      <td>0</td>\n",
       "      <td>0</td>\n",
       "      <td>1</td>\n",
       "      <td>1</td>\n",
       "      <td>1</td>\n",
       "      <td>0</td>\n",
       "      <td>0</td>\n",
       "      <td>1</td>\n",
       "      <td>0</td>\n",
       "      <td>1</td>\n",
       "    </tr>\n",
       "  </tbody>\n",
       "</table>\n",
       "</div>"
      ],
      "text/plain": [
       "                     Domain  Having_@_symbol  Having_IP  \\\n",
       "0  www.liquidgeneration.com                0          0   \n",
       "1       www.onlineanime.org                0          0   \n",
       "2       www.ceres.dti.ne.jp                0          0   \n",
       "3            www.galeon.com                0          0   \n",
       "4       www.fanworkrecs.com                0          0   \n",
       "\n",
       "                          Path  Prefix_suffix_separation Protocol  \\\n",
       "0                            /                         0     http   \n",
       "1                            /                         0     http   \n",
       "2  /~nekoi/senno/senfirst.html                         0     http   \n",
       "3                        /kmh/                         0     http   \n",
       "4                            /                         0     http   \n",
       "\n",
       "   Redirection_//_symbol  Sub_domains  URL_Length  age_domain  dns_record  \\\n",
       "0                      0            0           0           0           0   \n",
       "1                      0            0           0           0           0   \n",
       "2                      0            1           0           1           0   \n",
       "3                      0            0           0           0           0   \n",
       "4                      0            0           0           1           1   \n",
       "\n",
       "   domain_registration_length  http_tokens  label  statistical_report  \\\n",
       "0                           1            0      0                   0   \n",
       "1                           1            0      0                   1   \n",
       "2                           1            0      0                   0   \n",
       "3                           0            0      0                   0   \n",
       "4                           1            0      0                   1   \n",
       "\n",
       "   tiny_url  web_traffic  \n",
       "0         0            2  \n",
       "1         0            1  \n",
       "2         0            0  \n",
       "3         0            0  \n",
       "4         0            1  "
      ]
     },
     "execution_count": 5,
     "metadata": {},
     "output_type": "execute_result"
    }
   ],
   "source": [
    "urls.head(5)"
   ]
  },
  {
   "cell_type": "code",
   "execution_count": 8,
   "metadata": {},
   "outputs": [
    {
     "data": {
      "text/plain": [
       "(2015, 17)"
      ]
     },
     "execution_count": 8,
     "metadata": {},
     "output_type": "execute_result"
    }
   ],
   "source": [
    "urls.shape"
   ]
  },
  {
   "cell_type": "code",
   "execution_count": 9,
   "metadata": {},
   "outputs": [
    {
     "data": {
      "text/plain": [
       "Index(['Domain', 'Having_@_symbol', 'Having_IP', 'Path',\n",
       "       'Prefix_suffix_separation', 'Protocol', 'Redirection_//_symbol',\n",
       "       'Sub_domains', 'URL_Length', 'age_domain', 'dns_record',\n",
       "       'domain_registration_length', 'http_tokens', 'label',\n",
       "       'statistical_report', 'tiny_url', 'web_traffic'],\n",
       "      dtype='object')"
      ]
     },
     "execution_count": 9,
     "metadata": {},
     "output_type": "execute_result"
    }
   ],
   "source": [
    "urls.columns"
   ]
  },
  {
   "cell_type": "markdown",
   "metadata": {},
   "source": [
    "#### Removing Unnecessary columns"
   ]
  },
  {
   "cell_type": "code",
   "execution_count": 10,
   "metadata": {},
   "outputs": [],
   "source": [
    "urls = urls.drop(urls.columns[[0,3,5]],axis=1)"
   ]
  },
  {
   "cell_type": "markdown",
   "metadata": {},
   "source": [
    "#### Since we merged two dataframes top 1000 rows will have legitimate urls and bottom 1000 rows will have phishing urls. So if we split the data now and create a model for it will overfit so we need to shuffle the rows before splitting the data into training set and test set"
   ]
  },
  {
   "cell_type": "code",
   "execution_count": 11,
   "metadata": {},
   "outputs": [],
   "source": [
    "# randomly shuffling the rows in the dataset so that when splitting the train and test set are equally distributed\n",
    "urls = urls.sample(frac=1).reset_index(drop=True)"
   ]
  },
  {
   "cell_type": "markdown",
   "metadata": {},
   "source": [
    "#### Removing class variable from the dataset"
   ]
  },
  {
   "cell_type": "code",
   "execution_count": 12,
   "metadata": {},
   "outputs": [],
   "source": [
    "urls_without_labels = urls.drop('label',axis=1)\n",
    "urls_without_labels.columns\n",
    "labels = urls['label']\n"
   ]
  },
  {
   "cell_type": "markdown",
   "metadata": {},
   "source": [
    "#### splitting the data into train data and test data\n",
    "\n",
    "Dividing the data in the ratio of 70:30 [train_data:test_data]"
   ]
  },
  {
   "cell_type": "code",
   "execution_count": 13,
   "metadata": {},
   "outputs": [],
   "source": [
    "from sklearn.model_selection import train_test_split\n",
    "data_train, data_test, labels_train, labels_test = train_test_split(urls_without_labels, labels, test_size=0.30, random_state=110)"
   ]
  },
  {
   "cell_type": "code",
   "execution_count": 14,
   "metadata": {},
   "outputs": [
    {
     "name": "stdout",
     "output_type": "stream",
     "text": [
      "1410 605 1410 605\n"
     ]
    }
   ],
   "source": [
    "print(len(data_train),len(data_test),len(labels_train),len(labels_test))"
   ]
  },
  {
   "cell_type": "markdown",
   "metadata": {},
   "source": [
    "#### checking the split of labels in train and test data\n",
    "\n",
    "The split should be in equal proportion for both classes\n",
    "\n",
    "Phishing - 1\n",
    "\n",
    "Legitimate - 0\n"
   ]
  },
  {
   "cell_type": "code",
   "execution_count": 15,
   "metadata": {},
   "outputs": [
    {
     "data": {
      "text/plain": [
       "0    715\n",
       "1    695\n",
       "Name: label, dtype: int64"
      ]
     },
     "execution_count": 15,
     "metadata": {},
     "output_type": "execute_result"
    }
   ],
   "source": [
    "#initially checking the split of labels_train data \n",
    "labels_train.value_counts()\n"
   ]
  },
  {
   "cell_type": "markdown",
   "metadata": {},
   "source": [
    "By above results it is shown that the split of both classes are almost equal!\n",
    "\n",
    "Testing the same for labels of test data also"
   ]
  },
  {
   "cell_type": "code",
   "execution_count": 16,
   "metadata": {},
   "outputs": [
    {
     "data": {
      "text/plain": [
       "1    303\n",
       "0    302\n",
       "Name: label, dtype: int64"
      ]
     },
     "execution_count": 16,
     "metadata": {},
     "output_type": "execute_result"
    }
   ],
   "source": [
    "#checking the split for labels_test data\n",
    "labels_test.value_counts()"
   ]
  },
  {
   "cell_type": "markdown",
   "metadata": {},
   "source": [
    "as the split is almost in equal proportion we can train the model"
   ]
  },
  {
   "cell_type": "markdown",
   "metadata": {},
   "source": [
    "#### Creating the model and fitting the data into the model\n",
    "\n",
    "creating the model with default parameters"
   ]
  },
  {
   "cell_type": "code",
   "execution_count": 17,
   "metadata": {},
   "outputs": [],
   "source": [
    "from sklearn.ensemble import RandomForestClassifier\n",
    "\n",
    "random_forest_classifier = RandomForestClassifier()"
   ]
  },
  {
   "cell_type": "code",
   "execution_count": 18,
   "metadata": {},
   "outputs": [
    {
     "data": {
      "text/plain": [
       "RandomForestClassifier()"
      ]
     },
     "execution_count": 18,
     "metadata": {},
     "output_type": "execute_result"
    }
   ],
   "source": [
    "random_forest_classifier.fit(data_train,labels_train)\n"
   ]
  },
  {
   "cell_type": "markdown",
   "metadata": {},
   "source": [
    "#### Predicting the result for test data"
   ]
  },
  {
   "cell_type": "code",
   "execution_count": 19,
   "metadata": {},
   "outputs": [],
   "source": [
    "prediction_label = random_forest_classifier.predict(data_test)"
   ]
  },
  {
   "cell_type": "markdown",
   "metadata": {},
   "source": [
    "#### Creating confusion matrix and checking the accuracy"
   ]
  },
  {
   "cell_type": "code",
   "execution_count": 20,
   "metadata": {},
   "outputs": [
    {
     "name": "stdout",
     "output_type": "stream",
     "text": [
      "[[260  42]\n",
      " [ 59 244]]\n"
     ]
    },
    {
     "data": {
      "text/plain": [
       "0.8330578512396695"
      ]
     },
     "execution_count": 20,
     "metadata": {},
     "output_type": "execute_result"
    }
   ],
   "source": [
    "from sklearn.metrics import confusion_matrix,accuracy_score\n",
    "cpnfusionMatrix = confusion_matrix(labels_test,prediction_label)\n",
    "print(cpnfusionMatrix)\n",
    "accuracy_score(labels_test,prediction_label)"
   ]
  },
  {
   "cell_type": "markdown",
   "metadata": {},
   "source": [
    "### Improving the efficiency of model by specifying max_depth as well as number of tress "
   ]
  },
  {
   "cell_type": "code",
   "execution_count": 21,
   "metadata": {},
   "outputs": [],
   "source": [
    "custom_random_forest_classifier = RandomForestClassifier(n_estimators=500, max_depth=20, max_leaf_nodes=10000)"
   ]
  },
  {
   "cell_type": "code",
   "execution_count": 22,
   "metadata": {},
   "outputs": [
    {
     "data": {
      "text/plain": [
       "RandomForestClassifier(max_depth=20, max_leaf_nodes=10000, n_estimators=500)"
      ]
     },
     "execution_count": 22,
     "metadata": {},
     "output_type": "execute_result"
    }
   ],
   "source": [
    "custom_random_forest_classifier.fit(data_train,labels_train)"
   ]
  },
  {
   "cell_type": "code",
   "execution_count": 23,
   "metadata": {},
   "outputs": [],
   "source": [
    "custom_classifier_prediction_label = custom_random_forest_classifier.predict(data_test)"
   ]
  },
  {
   "cell_type": "code",
   "execution_count": 24,
   "metadata": {},
   "outputs": [
    {
     "name": "stdout",
     "output_type": "stream",
     "text": [
      "[[260  42]\n",
      " [ 58 245]]\n"
     ]
    },
    {
     "data": {
      "text/plain": [
       "0.8347107438016529"
      ]
     },
     "execution_count": 24,
     "metadata": {},
     "output_type": "execute_result"
    }
   ],
   "source": [
    "#from sklearn.metrics import confusion_matrix,accuracy_score\n",
    "confusionMatrix2 = confusion_matrix(labels_test,custom_classifier_prediction_label)\n",
    "print(confusionMatrix2)\n",
    "accuracy_score(labels_test,custom_classifier_prediction_label)"
   ]
  },
  {
   "cell_type": "code",
   "execution_count": null,
   "metadata": {
    "collapsed": true
   },
   "outputs": [],
   "source": []
  }
 ],
 "metadata": {
  "kernelspec": {
   "display_name": "Python 3",
   "language": "python",
   "name": "python3"
  },
  "language_info": {
   "codemirror_mode": {
    "name": "ipython",
    "version": 3
   },
   "file_extension": ".py",
   "mimetype": "text/x-python",
   "name": "python",
   "nbconvert_exporter": "python",
   "pygments_lexer": "ipython3",
   "version": "3.9.1"
  }
 },
 "nbformat": 4,
 "nbformat_minor": 2
}
